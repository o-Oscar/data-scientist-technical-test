{
 "cells": [
  {
   "cell_type": "markdown",
   "metadata": {},
   "source": [
    "# data-scientist-technical-test\n",
    "\n",
    "I have structured my submission around two key steps :\n",
    "- loading and analysis of the data\n",
    "- model training and validation"
   ]
  },
  {
   "cell_type": "code",
   "execution_count": 1,
   "metadata": {},
   "outputs": [],
   "source": [
    "# Importing the libraries\n",
    "\n",
    "import pandas as pd\n",
    "import numpy as np\n",
    "import matplotlib.pyplot as plt\n",
    "import tensorflow as tf\n",
    "import re\n",
    "from IPython.display import clear_output"
   ]
  },
  {
   "cell_type": "markdown",
   "metadata": {},
   "source": [
    "## loading and analysis of the data\n",
    "\n",
    "Here, the data is loaded in two dataframes.\n",
    "I print some statistics about the data in order to better understand the different features.\n",
    "\n",
    "The first thing that I find out is that there is a lot of data missing (nan in the dataframe) both in the training set and the test set. For categorical features, the abscence of a value is treated as just an other category. I choose to deel with the abscence of a continuous feature by adding a flag indicating if the feature was present or not in the original data. Then, the mean of the continuous feature is added in place of the missing feature."
   ]
  },
  {
   "cell_type": "code",
   "execution_count": 2,
   "metadata": {},
   "outputs": [
    {
     "name": "stdout",
     "output_type": "stream",
     "text": [
      "              dtypes  nunique  nans\n",
      "INDEX          int64     2141     0\n",
      "TARGET_FLAG  float64        0  2141\n",
      "TARGET_AMT   float64        0  2141\n",
      "KIDSDRIV       int64        4     0\n",
      "AGE          float64       54     1\n",
      "HOMEKIDS       int64        6     0\n",
      "YOJ          float64       20    94\n",
      "INCOME        object     1803   125\n",
      "PARENT1       object        2     0\n",
      "HOME_VAL      object     1397   111\n",
      "MSTATUS       object        2     0\n",
      "SEX           object        2     0\n",
      "EDUCATION     object        5     0\n",
      "JOB           object        8   139\n",
      "TRAVTIME       int64       83     0\n",
      "CAR_USE       object        2     0\n",
      "BLUEBOOK      object     1417     0\n",
      "TIF            int64       21     0\n",
      "CAR_TYPE      object        6     0\n",
      "RED_CAR       object        2     0\n",
      "OLDCLAIM      object      834     0\n",
      "CLM_FREQ       int64        6     0\n",
      "REVOKED       object        2     0\n",
      "MVR_PTS        int64       13     0\n",
      "CAR_AGE      float64       27   129\n",
      "URBANICITY    object        2     0\n",
      "              dtypes  nunique  nans\n",
      "INDEX          int64     8161     0\n",
      "TARGET_FLAG    int64        2     0\n",
      "TARGET_AMT   float64     1949     0\n",
      "KIDSDRIV       int64        5     0\n",
      "AGE          float64       60     6\n",
      "HOMEKIDS       int64        6     0\n",
      "YOJ          float64       21   454\n",
      "INCOME        object     6612   445\n",
      "PARENT1       object        2     0\n",
      "HOME_VAL      object     5106   464\n",
      "MSTATUS       object        2     0\n",
      "SEX           object        2     0\n",
      "EDUCATION     object        5     0\n",
      "JOB           object        8   526\n",
      "TRAVTIME       int64       97     0\n",
      "CAR_USE       object        2     0\n",
      "BLUEBOOK      object     2789     0\n",
      "TIF            int64       23     0\n",
      "CAR_TYPE      object        6     0\n",
      "RED_CAR       object        2     0\n",
      "OLDCLAIM      object     2857     0\n",
      "CLM_FREQ       int64        6     0\n",
      "REVOKED       object        2     0\n",
      "MVR_PTS        int64       13     0\n",
      "CAR_AGE      float64       30   510\n",
      "URBANICITY    object        2     0\n"
     ]
    }
   ],
   "source": [
    "data_path = \"data/auto-insurance-fall-2017/{}_auto.csv\"\n",
    "\n",
    "test_df = pd.read_csv(data_path.format(\"test\"))\n",
    "train_df = pd.read_csv(data_path.format(\"train\"))\n",
    "\n",
    "def print_infos (df):\n",
    "    col_infos = df.dtypes.to_frame().rename(columns={0: \"dtypes\"})\n",
    "    col_infos [\"nunique\"] = df.nunique()\n",
    "    col_infos[\"nans\"] = df.isna().sum()\n",
    "    print(col_infos)\n",
    "\n",
    "\n",
    "print_infos(test_df)\n",
    "print_infos(train_df)\n"
   ]
  },
  {
   "cell_type": "markdown",
   "metadata": {},
   "source": [
    "When exploring the database, even if I do not know what \"YOJ\" and \"OLDCLAIM\" means exactly, I can see that there is some kind of peculiar thing at YOJ=0\n",
    "Thus, to help the neural network, I add a flag that indicates wether the YOJ (resp OLDCLAIM) is zero or not."
   ]
  },
  {
   "cell_type": "code",
   "execution_count": 3,
   "metadata": {},
   "outputs": [
    {
     "data": {
      "image/png": "[encoded data removed]",
      "text/plain": [
       "<Figure size 432x288 with 1 Axes>"
      ]
     },
     "metadata": {
      "needs_background": "light"
     },
     "output_type": "display_data"
    }
   ],
   "source": [
    "to_plot = \"YOJ\" # \"OLDCLAIM\"\n",
    "plt.hist(train_df[to_plot], bins=21)\n",
    "plt.xlabel(to_plot)\n",
    "plt.ylabel(\"frequency\")\n",
    "plt.show()"
   ]
  },
  {
   "cell_type": "markdown",
   "metadata": {},
   "source": [
    "Based on the previous discoveries I can format the data so that is is easy to feed to the neural network."
   ]
  },
  {
   "cell_type": "code",
   "execution_count": 4,
   "metadata": {},
   "outputs": [
    {
     "name": "stdout",
     "output_type": "stream",
     "text": [
      "train_features : (8161, 67)\n",
      "train_targets : (8161, 2)\n",
      "test_features : (2141, 67)\n"
     ]
    },
    {
     "name": "stderr",
     "output_type": "stream",
     "text": [
      "2021-12-01 20:00:02.849660: I tensorflow/stream_executor/cuda/cuda_gpu_executor.cc:939] successful NUMA node read from SysFS had negative value (-1), but there must be at least one NUMA node, so returning NUMA node zero\n",
      "2021-12-01 20:00:02.860947: I tensorflow/stream_executor/cuda/cuda_gpu_executor.cc:939] successful NUMA node read from SysFS had negative value (-1), but there must be at least one NUMA node, so returning NUMA node zero\n",
      "2021-12-01 20:00:02.861360: I tensorflow/stream_executor/cuda/cuda_gpu_executor.cc:939] successful NUMA node read from SysFS had negative value (-1), but there must be at least one NUMA node, so returning NUMA node zero\n",
      "2021-12-01 20:00:02.862186: I tensorflow/core/platform/cpu_feature_guard.cc:151] This TensorFlow binary is optimized with oneAPI Deep Neural Network Library (oneDNN) to use the following CPU instructions in performance-critical operations:  AVX2 FMA\n",
      "To enable them in other operations, rebuild TensorFlow with the appropriate compiler flags.\n",
      "2021-12-01 20:00:02.862839: I tensorflow/stream_executor/cuda/cuda_gpu_executor.cc:939] successful NUMA node read from SysFS had negative value (-1), but there must be at least one NUMA node, so returning NUMA node zero\n",
      "2021-12-01 20:00:02.863203: I tensorflow/stream_executor/cuda/cuda_gpu_executor.cc:939] successful NUMA node read from SysFS had negative value (-1), but there must be at least one NUMA node, so returning NUMA node zero\n",
      "2021-12-01 20:00:02.863490: I tensorflow/stream_executor/cuda/cuda_gpu_executor.cc:939] successful NUMA node read from SysFS had negative value (-1), but there must be at least one NUMA node, so returning NUMA node zero\n",
      "2021-12-01 20:00:03.337207: I tensorflow/stream_executor/cuda/cuda_gpu_executor.cc:939] successful NUMA node read from SysFS had negative value (-1), but there must be at least one NUMA node, so returning NUMA node zero\n",
      "2021-12-01 20:00:03.337612: I tensorflow/stream_executor/cuda/cuda_gpu_executor.cc:939] successful NUMA node read from SysFS had negative value (-1), but there must be at least one NUMA node, so returning NUMA node zero\n",
      "2021-12-01 20:00:03.337942: I tensorflow/stream_executor/cuda/cuda_gpu_executor.cc:939] successful NUMA node read from SysFS had negative value (-1), but there must be at least one NUMA node, so returning NUMA node zero\n",
      "2021-12-01 20:00:03.338227: I tensorflow/core/common_runtime/gpu/gpu_device.cc:1525] Created device /job:localhost/replica:0/task:0/device:GPU:0 with 5375 MB memory:  -> device: 0, name: NVIDIA GeForce GTX 1060, pci bus id: 0000:01:00.0, compute capability: 6.1\n"
     ]
    }
   ],
   "source": [
    "# Here we define a bunch of functions that will help us process the data from a pandas dataframe to a numpy array.\n",
    "\n",
    "def to_one_hot (col):\n",
    "    collist = col.tolist()\n",
    "    index_dic = {key: index for index, key in enumerate(set(collist))}\n",
    "    res = tf.one_hot([index_dic[x] for x in collist], len(index_dic)).numpy()\n",
    "    return res\n",
    "\n",
    "def to_float_trivia (col):\n",
    "    to_return = np.array(col.tolist(), dtype=np.float32).reshape((-1,1))\n",
    "    return to_return\n",
    "\n",
    "def to_float (col):\n",
    "    to_return = np.array(col.tolist(), dtype=np.float32).reshape((-1,1))\n",
    "    is_nan = np.isnan(to_return)\n",
    "    to_return[np.where(is_nan)] = np.nanmean(to_return)\n",
    "    to_return = (to_return - np.mean(to_return)) / np.std(to_return)\n",
    "    return to_return\n",
    "    \n",
    "def to_float_except (col, value):\n",
    "    to_return = np.array(col.tolist(), dtype=np.float32).reshape((-1,1))\n",
    "    is_nan = np.isnan(to_return)\n",
    "    is_diff = np.where(np.logical_and(to_return != value, 1-is_nan))\n",
    "    to_return = (to_return - np.mean(to_return[is_diff])) / np.std(to_return[is_diff])\n",
    "    to_return[np.where(is_nan)] = 0\n",
    "    return to_return\n",
    "\n",
    "def flag (col, value):\n",
    "    return (np.array(col.tolist()) == value).astype(np.float32).reshape((-1,1))\n",
    "\n",
    "def flag_type (col, test_type):\n",
    "    return np.array([type(elem)==test_type for elem in col.tolist()]).astype(np.float32).reshape((-1,1))\n",
    "\n",
    "def flag_nan (col):\n",
    "    return np.isnan(np.array(col.tolist())).astype(np.float32).reshape((-1,1))\n",
    "\n",
    "def text_to_float (regex, col):\n",
    "    collist = col.tolist()\n",
    "    to_return = []\n",
    "    for text in collist:\n",
    "        if type(text) == float:\n",
    "            to_return.append(text)\n",
    "        else:\n",
    "            m = re.search(regex, text) if text is not None else False\n",
    "            if m:\n",
    "                to_return.append(float(m.group(1).replace(',', '.')))\n",
    "            else:\n",
    "                raise NameError(\"Could not parse text '{}' with regex '{}'\".format(text, regex))\n",
    "\n",
    "    to_return = np.array(to_return)\n",
    "    is_nan = np.isnan(to_return)\n",
    "    to_return[np.where(is_nan)] = np.nanmean(to_return)\n",
    "    to_return = (to_return - np.mean(to_return)) / np.std(to_return)\n",
    "    return to_return.reshape((-1,1))\n",
    "\n",
    "# Here we define the correspondance between the features in the dataframe and the function that we should apply to them\n",
    "\n",
    "feature_funcs = {\n",
    "    \"KIDSDRIV\": to_one_hot,\n",
    "    \"AGE\" : lambda x: np.concatenate([to_float(x), flag_nan(x)], axis=1),\n",
    "    \"HOMEKIDS\" : to_one_hot,\n",
    "    \"YOJ\" : lambda x: np.concatenate([to_float_except(x, 0.), flag(x, 0.)], axis=1),\n",
    "    \"INCOME\" : lambda x: np.concatenate([text_to_float(\"\\$(.+)\", x), flag_type(x, float)], axis=1),\n",
    "    \"PARENT1\" : to_one_hot,\n",
    "    \"HOME_VAL\" : lambda x: np.concatenate([text_to_float(\"\\$(.+)\", x), flag_type(x, float)], axis=1),\n",
    "    \"MSTATUS\" : to_one_hot,\n",
    "    \"SEX\" : to_one_hot,\n",
    "    \"EDUCATION\" : to_one_hot,\n",
    "    \"JOB\" : to_one_hot,\n",
    "    \"TRAVTIME\" : to_float,\n",
    "    \"CAR_USE\" : to_one_hot,\n",
    "    \"BLUEBOOK\" : lambda x: text_to_float(\"\\$(.+)\", x),\n",
    "    \"TIF\" : to_float,\n",
    "    \"CAR_TYPE\" : to_one_hot,\n",
    "    \"RED_CAR\" : to_one_hot,\n",
    "    \"OLDCLAIM\" : lambda x: np.concatenate([text_to_float(\"\\$(.+)\", x), flag(x, \"$0\")], axis=1),\n",
    "    \"CLM_FREQ\" : to_one_hot,\n",
    "    \"REVOKED\" : to_one_hot,\n",
    "    \"MVR_PTS\" : to_float,\n",
    "    \"CAR_AGE\" : lambda x: np.concatenate([to_float(x), flag_nan(x)], axis=1),\n",
    "    \"URBANICITY\" : to_one_hot,\n",
    "}\n",
    "\n",
    "target_funcs = {\n",
    "    \"TARGET_FLAG\": to_float_trivia,\n",
    "    \"TARGET_AMT\" : lambda x: to_float_except(x, 0.),\n",
    "}\n",
    "\n",
    "# This function goes through the dataframe df and applies the funcs to the right columns to make the numpy we use as dataset.\n",
    "\n",
    "def prepare_dataset (df, funcs):\n",
    "    all_features = []\n",
    "    all_feature_source = []\n",
    "    for key, func in funcs.items():\n",
    "        new_features = func(df[key])\n",
    "        all_features.append(new_features)\n",
    "        all_feature_source.extend([key for i in range(new_features.shape[1])])\n",
    "    all_features = np.concatenate(all_features, axis=1)\n",
    "    return all_features, all_feature_source\n",
    "\n",
    "n_train = len(train_df.index)\n",
    "n_test = len(test_df.index)\n",
    "\n",
    "full_df = pd.concat([train_df, test_df], axis=0)\n",
    "\n",
    "full_features, full_features_source = prepare_dataset(full_df, feature_funcs)\n",
    "train_targets, train_targets_source = prepare_dataset(train_df, target_funcs)\n",
    "train_features = full_features[:n_train]\n",
    "test_features = full_features[n_train:]\n",
    "\n",
    "print(\"train_features :\", train_features.shape)\n",
    "print(\"train_targets :\", train_targets.shape)\n",
    "print(\"test_features :\", test_features.shape)"
   ]
  },
  {
   "cell_type": "markdown",
   "metadata": {},
   "source": [
    "Before training the neural network, I want to eliminate the redondant variable to hopefully generalize better to unseen data. In order to do that, I calculate the cross-correlation between the features and the targets. \n",
    "\n",
    "The first thing that we see is that the targets are not much correlated to anything. \n",
    "\n",
    "Secound thing, we see that some features are greatly correlated between one-another. Thus, we can hopefully remove some of those and still get a good accuracy (that hypothesis is not checked within this notebook)."
   ]
  },
  {
   "cell_type": "code",
   "execution_count": 5,
   "metadata": {},
   "outputs": [
    {
     "data": {
      "image/png": "[encoded data removed]",
      "text/plain": [
       "<Figure size 432x288 with 1 Axes>"
      ]
     },
     "metadata": {
      "needs_background": "light"
     },
     "output_type": "display_data"
    },
    {
     "name": "stdout",
     "output_type": "stream",
     "text": [
      "The most important cross-correlations between the features : \n",
      "                                 0       abs\n",
      "YOJ - JOB                 0.426321  0.426321\n",
      "JOB - CAR_USE             0.438054  0.438054\n",
      "HOME_VAL - MSTATUS       -0.446291  0.446291\n",
      "OLDCLAIM - MVR_PTS       -0.467214  0.467214\n",
      "CLM_FREQ - MVR_PTS       -0.467214  0.467214\n",
      "OLDCLAIM - CLM_FREQ      -0.470275  0.470275\n",
      "PARENT1 - MSTATUS        -0.477228  0.477228\n",
      "KIDSDRIV - HOMEKIDS       0.480308  0.480308\n",
      "BLUEBOOK - CAR_TYPE       0.487637  0.487637\n",
      "EDUCATION - CAR_AGE       0.490800  0.490800\n",
      "AGE - HOMEKIDS            0.495245  0.495245\n",
      "HOMEKIDS - PARENT1        0.529131  0.529131\n",
      "TARGET_FLAG - TARGET_AMT  0.534246  0.534246\n",
      "SEX - CAR_TYPE            0.534681  0.534681\n",
      "EDUCATION - JOB           0.599275  0.599275\n",
      "SEX - RED_CAR             0.666621  0.666621\n"
     ]
    }
   ],
   "source": [
    "# Shows that there is very little correlation between the targets and the features.\n",
    "all_data = np.concatenate([train_targets, train_features], axis=1)\n",
    "corr = np.corrcoef(all_data.T)\n",
    "plt.hist(corr[2:, :2], label=[\"TARGET_FLAG\",\"TARGET_AMT\"])\n",
    "plt.legend()\n",
    "plt.title(\"Correlation between feature and target\")\n",
    "plt.show()\n",
    "\n",
    "# Picks up the most important couplings between the features.\n",
    "\n",
    "all_sources = train_targets_source + full_features_source\n",
    "interesting_coupling = {}\n",
    "for i, row in enumerate(corr):\n",
    "    for j, value in enumerate(row):\n",
    "        if 0.4 < np.abs(value) < 0.98 and i < j and all_sources[i] != all_sources[j]:\n",
    "            key = \"{} - {}\".format(all_sources[i], all_sources[j])\n",
    "            if key not in interesting_coupling:\n",
    "                interesting_coupling[key] = value\n",
    "            else:\n",
    "                interesting_coupling[key] = value if abs(interesting_coupling[key]) < value else interesting_coupling[key]\n",
    "\n",
    "df = pd.DataFrame.from_dict(interesting_coupling, orient=\"index\")\n",
    "df[\"abs\"] = abs(df[0])\n",
    "df = df.sort_values(\"abs\")\n",
    "print(\"The most important cross-correlations between the features : \")\n",
    "print(df)"
   ]
  },
  {
   "cell_type": "markdown",
   "metadata": {},
   "source": [
    "Thus, I remove YOJ, CAR_USE, CAR_AGE from the feature set and rebuild the dataset."
   ]
  },
  {
   "cell_type": "code",
   "execution_count": 6,
   "metadata": {},
   "outputs": [
    {
     "name": "stdout",
     "output_type": "stream",
     "text": [
      "train_features : (8161, 61)\n",
      "train_targets : (8161, 2)\n",
      "test_features : (2141, 61)\n"
     ]
    }
   ],
   "source": [
    "del feature_funcs[\"YOJ\"]\n",
    "del feature_funcs[\"CAR_USE\"]\n",
    "del feature_funcs[\"CAR_AGE\"]\n",
    "\n",
    "\n",
    "full_features, full_features_source = prepare_dataset(full_df, feature_funcs)\n",
    "train_targets, train_targets_source = prepare_dataset(train_df, target_funcs)\n",
    "train_features = full_features[:n_train]\n",
    "test_features = full_features[n_train:]\n",
    "\n",
    "print(\"train_features :\", train_features.shape)\n",
    "print(\"train_targets :\", train_targets.shape)\n",
    "print(\"test_features :\", test_features.shape)"
   ]
  },
  {
   "cell_type": "markdown",
   "metadata": {},
   "source": [
    "## model training and validation\n",
    "\n",
    "The model I choose for this task is a neural network as it can deal with both categorical and continuous data. \n",
    "\n",
    "Due to the limited amount of data that I have, I need to be very carefull not to overfit. Thus, in the training process, I split the data between a training and a validation set. The neural network is trained on the training set, but I set my hyperparameters in order to make the loss on the validation go as low as possible.\n",
    "\n",
    "The loss is split in two parts as we are trying to fit two things. The TARGET_FLAG is a binary value (0 or 1) while the TARGET_AMT is a continuous value. I use a binary cross entropy loss to fit the TARGET_FLAG and a mean square loss to fit the TARGET_AMT."
   ]
  },
  {
   "cell_type": "code",
   "execution_count": 7,
   "metadata": {},
   "outputs": [
    {
     "name": "stdout",
     "output_type": "stream",
     "text": [
      "best validation loss : 3.5162830352783203\n"
     ]
    },
    {
     "data": {
      "image/png": "[encoded data removed]",
      "text/plain": [
       "<Figure size 432x288 with 1 Axes>"
      ]
     },
     "metadata": {
      "needs_background": "light"
     },
     "output_type": "display_data"
    }
   ],
   "source": [
    "\n",
    "l1_ker = 0.003\n",
    "l2_ker = 0.00\n",
    "l1_act = 0.00\n",
    "l2_act = 0.00\n",
    "\n",
    "def create_simple_model ():\n",
    "    return tf.keras.Sequential([ \n",
    "        tf.keras.layers.Dense(64,\n",
    "            kernel_regularizer=tf.keras.regularizers.L1L2(l1=l1_ker, l2=l2_ker),\n",
    "            activity_regularizer=tf.keras.regularizers.L1L2(l1=l1_act, l2=l2_act),\n",
    "            activation=tf.nn.relu,\n",
    "            input_shape=[train_features.shape[1]]\n",
    "        ),\n",
    "        tf.keras.layers.Dense(64,\n",
    "            kernel_regularizer=tf.keras.regularizers.L1L2(l1=l1_ker, l2=l2_ker),\n",
    "            activity_regularizer=tf.keras.regularizers.L1L2(l1=l1_act, l2=l2_act),\n",
    "            activation=tf.nn.relu,\n",
    "        ),\n",
    "        tf.keras.layers.Dense(2, activation=None)\n",
    "    ]\n",
    "    )\n",
    "\n",
    "\n",
    "def custom_loss(y_actual,y_pred):\n",
    "    target_flag = y_actual[:,0]\n",
    "    log_p_pred = y_pred[:,0]\n",
    "    \n",
    "    bce = tf.losses.BinaryCrossentropy(from_logits=True)\n",
    "    cat_loss = bce(target_flag, log_p_pred) * .3\n",
    "\n",
    "    actual_value = y_actual[:,1]\n",
    "    pred_value = y_pred[:,1]\n",
    "\n",
    "    value_loss = tf.square(actual_value - pred_value) * target_flag * 10\n",
    "\n",
    "    custom_loss = cat_loss + value_loss\n",
    "    return custom_loss\n",
    "\n",
    "def train_model (use_validation, epochs=30):\n",
    "    \"\"\"Trains a neural network on the data previously definded.\n",
    "\n",
    "    Keyword arguments:\n",
    "    use_validation -- wether to split the data between training and validation or not.\n",
    "    epochs -- the number of epoch to train the neural network for (default 30)\n",
    "    \"\"\"\n",
    "    optimizer=tf.keras.optimizers.Adam(0.003)\n",
    "\n",
    "    model = create_simple_model()\n",
    "    model.compile(loss=custom_loss,optimizer=optimizer)\n",
    "\n",
    "    cur_train_size = int(.7*n_train) if use_validation else n_train\n",
    "    x = train_features[:cur_train_size]\n",
    "    y = train_targets[:cur_train_size]\n",
    "    if use_validation:\n",
    "        x_val = train_features[cur_train_size:]\n",
    "        y_val = train_targets[cur_train_size:]\n",
    "        history = model.fit(x,y,batch_size=8,epochs=30, validation_data=(x_val, y_val))\n",
    "        clear_output(wait=True)\n",
    "\n",
    "        plt.plot(history.history[\"loss\"], label=\"loss\")\n",
    "        plt.plot(history.history[\"val_loss\"], label=\"validation loss\")\n",
    "        print(\"best validation loss :\", min(history.history[\"val_loss\"]))\n",
    "        plt.legend()\n",
    "        plt.xlabel(\"epoch\")\n",
    "        plt.ylabel(\"loss\")\n",
    "        plt.show()\n",
    "\n",
    "        return model, x, y, x_val, y_val, history\n",
    "    else:\n",
    "        history = model.fit(x,y,batch_size=8,epochs=epochs)\n",
    "        clear_output(wait=True)\n",
    "        plt.plot(history.history[\"loss\"], label=\"loss\")\n",
    "        plt.legend()\n",
    "        plt.ylabel(\"loss\")\n",
    "        plt.xlabel(\"epoch\")\n",
    "        plt.show()\n",
    "\n",
    "        return model, x, y, history\n",
    "\n",
    "model, x, y, x_val, y_val, history = train_model(True)"
   ]
  },
  {
   "cell_type": "markdown",
   "metadata": {},
   "source": [
    "Then we can plot the predicted value of TARGET_AMT against the true value of TARGET_AMT on the validation set (note that the data is scaled to have 0 mean and 1 standard variation). We can see that our neural network has a pretty poor fit to the data : it seems pretty conservative in its prediction by grouping everyone around the mean."
   ]
  },
  {
   "cell_type": "code",
   "execution_count": 8,
   "metadata": {},
   "outputs": [
    {
     "data": {
      "image/png": "[encoded data removed]",
      "text/plain": [
       "<Figure size 432x288 with 1 Axes>"
      ]
     },
     "metadata": {
      "needs_background": "light"
     },
     "output_type": "display_data"
    }
   ],
   "source": [
    "wh = np.where(y_val[:,0] == 1.)\n",
    "plt.plot(y_val[wh][:,1], model.predict(x_val)[wh][:,1], \".\", label=\"preduction of TARGET_AMT\")\n",
    "plt.plot([-1, 1], [-1, 1], label=\"slope x=y\")\n",
    "plt.xlim(-1, 1)\n",
    "plt.ylim(-1, 1)\n",
    "plt.xlabel(\"true value (validation set)\")\n",
    "plt.ylabel(\"predicted value\")\n",
    "plt.legend()\n",
    "plt.show()"
   ]
  },
  {
   "cell_type": "markdown",
   "metadata": {},
   "source": [
    "At the contrary, the TARGET_FLAG seems to be better resolved. The neural network seems to have some idea as to when the TARGET_FLAG should be equal to 1 (orange hist)."
   ]
  },
  {
   "cell_type": "code",
   "execution_count": 9,
   "metadata": {},
   "outputs": [
    {
     "data": {
      "image/png": "[encoded data removed]",
      "text/plain": [
       "<Figure size 432x288 with 1 Axes>"
      ]
     },
     "metadata": {
      "needs_background": "light"
     },
     "output_type": "display_data"
    }
   ],
   "source": [
    "pred = 1/(1+np.exp(-model.predict(x_val)[:,0]+np.mean(model.predict(x_val)[:,0])))\n",
    "pred_0 = pred[np.where(y_val[:,0] == 0.)]\n",
    "pred_1 = pred[np.where(y_val[:,0] == 1.)]\n",
    "plt.hist(pred_0, density=False, bins=30, label=\"TARGET_FLAG = 0\")\n",
    "plt.hist(pred_1, density=False, bins=30, label=\"TARGET_FLAG = 1\")\n",
    "plt.legend()\n",
    "plt.title(\"Distribution of probability given by the model on the validation set\")\n",
    "plt.show()"
   ]
  },
  {
   "cell_type": "markdown",
   "metadata": {},
   "source": [
    "## Last touch\n",
    "\n",
    "Finally, once we have the best hyperparameters, we can train a final network on the full training dataset and save its predictions on a separate file.  "
   ]
  },
  {
   "cell_type": "code",
   "execution_count": 10,
   "metadata": {},
   "outputs": [
    {
     "data": {
      "image/png": "[encoded data removed]",
      "text/plain": [
       "<Figure size 432x288 with 1 Axes>"
      ]
     },
     "metadata": {
      "needs_background": "light"
     },
     "output_type": "display_data"
    }
   ],
   "source": [
    "model, x, y, history = train_model(False, epochs=8)"
   ]
  },
  {
   "cell_type": "code",
   "execution_count": 12,
   "metadata": {},
   "outputs": [],
   "source": [
    "raw_train_pred = model(train_features).numpy()\n",
    "raw_test_pred = model(test_features).numpy()\n",
    "\n",
    "# We need to retrieve the mean and the std that we used to preprocess the data in order to scale back the prediction of the neural network\n",
    "def to_float_except_mean_std (col, value):\n",
    "    to_return = np.array(col.tolist(), dtype=np.float32).reshape((-1,1))\n",
    "    is_nan = np.isnan(to_return)\n",
    "    is_diff = np.where(np.logical_and(to_return != value, 1-is_nan))\n",
    "    return np.mean(to_return[is_diff]), np.std(to_return[is_diff])\n",
    "\n",
    "m, s = to_float_except_mean_std(train_df[\"TARGET_AMT\"], 0.)\n",
    "\n",
    "pred_target_flag = (raw_test_pred[:,0] > 0).astype(np.float32)\n",
    "pred_target_amt = raw_test_pred[:,1] * s + m\n",
    "pred_target_amt[np.where(pred_target_flag==0)] = 0\n",
    "\n",
    "test_df[\"TARGET_FLAG\"] = pred_target_flag\n",
    "test_df[\"TARGET_AMT\"] = pred_target_amt\n",
    " \n",
    "test_df.to_csv(data_path.format(\"test_results\"))\n"
   ]
  }
 ],
 "metadata": {
  "interpreter": {
   "hash": "f7f54b395b70fc0fc1b648dbac1231ae049bfcc6de153c09907f861e248f1d49"
  },
  "kernelspec": {
   "display_name": "Python 3.8.10 64-bit ('venv': venv)",
   "language": "python",
   "name": "python3"
  },
  "language_info": {
   "codemirror_mode": {
    "name": "ipython",
    "version": 3
   },
   "file_extension": ".py",
   "mimetype": "text/x-python",
   "name": "python",
   "nbconvert_exporter": "python",
   "pygments_lexer": "ipython3",
   "version": "3.8.10"
  },
  "orig_nbformat": 4
 },
 "nbformat": 4,
 "nbformat_minor": 2
}
